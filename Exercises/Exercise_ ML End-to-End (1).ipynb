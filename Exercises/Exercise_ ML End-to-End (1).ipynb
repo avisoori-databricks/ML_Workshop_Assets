{
 "cells": [
  {
   "cell_type": "markdown",
   "metadata": {
    "application/vnd.databricks.v1+cell": {
     "cellMetadata": {},
     "inputWidgets": {},
     "nuid": "29532353-07d2-406a-8f9e-dec20c09e1eb",
     "showTitle": false,
     "title": ""
    }
   },
   "source": [
    "# Training machine learning models on tabular data: an end-to-end example\n",
    "\n",
    "This tutorial covers the following steps:\n",
    "- Import data from your local machine into the Databricks File System (DBFS)\n",
    "- Visualize the data using Seaborn and matplotlib\n",
    "- Run a parallel hyperparameter sweep to train machine learning models on the dataset\n",
    "- Explore the results of the hyperparameter sweep with MLflow\n",
    "- Register the best performing model in MLflow\n",
    "- Apply the registered model to another dataset using a Spark UDF\n",
    "- Set up model serving for low-latency requests\n",
    "\n",
    "In this example, you build a model to predict the quality of Portugese \"Vinho Verde\" wine based on the wine's physicochemical properties. \n",
    "\n",
    "The example uses a dataset from the UCI Machine Learning Repository, presented in [*Modeling wine preferences by data mining from physicochemical properties*](https://www.sciencedirect.com/science/article/pii/S0167923609001377?via%3Dihub) [Cortez et al., 2009].\n",
    "\n",
    "## Requirements\n",
    "This notebook requires Databricks Runtime for Machine Learning.  \n",
    "\n",
    "## Instructions \n",
    "Fill in the gaps as instructed during the training. You will be instructed to include initials in model, run and table names"
   ]
  },
  {
   "cell_type": "code",
   "execution_count": 0,
   "metadata": {
    "application/vnd.databricks.v1+cell": {
     "cellMetadata": {
      "byteLimit": 2048000,
      "rowLimit": 10000
     },
     "inputWidgets": {},
     "nuid": "a415ce63-e085-451f-a8a0-07c431284d76",
     "showTitle": false,
     "title": ""
    }
   },
   "outputs": [
    {
     "output_type": "display_data",
     "data": {
      "text/html": [
       "<img src ='https://www.databricks.com/wp-content/uploads/2019/09/architecture.png'>"
      ]
     },
     "metadata": {
      "application/vnd.databricks.v1+output": {
       "addedWidgets": {},
       "arguments": {},
       "data": "<img src ='https://www.databricks.com/wp-content/uploads/2019/09/architecture.png'>",
       "datasetInfos": [],
       "metadata": {},
       "removedWidgets": [],
       "textData": null,
       "type": "htmlSandbox"
      }
     },
     "output_type": "display_data"
    }
   ],
   "source": [
    "displayHTML(\"<img src ='https://www.databricks.com/wp-content/uploads/2019/09/architecture.png'>\")\n"
   ]
  },
  {
   "cell_type": "code",
   "execution_count": 0,
   "metadata": {
    "application/vnd.databricks.v1+cell": {
     "cellMetadata": {},
     "inputWidgets": {},
     "nuid": "28a6921b-044c-4140-afec-2e94664f3fc7",
     "showTitle": false,
     "title": ""
    }
   },
   "outputs": [],
   "source": [
    "# This command is only required if you are using a cluster running DBR 7.3 LTS ML or below. \n",
    "#%pip install --upgrade cloudpickle"
   ]
  },
  {
   "cell_type": "markdown",
   "metadata": {
    "application/vnd.databricks.v1+cell": {
     "cellMetadata": {},
     "inputWidgets": {},
     "nuid": "06d82df8-ecd7-4949-bec8-62883ca3c5ba",
     "showTitle": false,
     "title": ""
    }
   },
   "source": [
    "## Import data\n",
    "  \n",
    "In this section, you download a dataset from the web and upload it to Databricks File System (DBFS).\n",
    "\n",
    "1. Navigate to https://archive.ics.uci.edu/ml/machine-learning-databases/wine-quality/ and download both `winequality-red.csv` and `winequality-white.csv` to your local machine.\n",
    "\n",
    "1. From this Databricks notebook, select **File > Upload data to DBFS...**, and drag these files to the drag-and-drop target to upload them to the Databricks File System (DBFS). \n",
    "\n",
    "    **Note**: if you don't have the **File > Upload data to DBFS...** option, you can load the dataset from the Databricks example datasets. Uncomment and run the last two lines in the following cell.\n",
    "\n",
    "1. Click **Next**. Auto-generated code to load the data appears. Under **Access Files from Notebooks**, select the **pandas** tab. Click **Copy** to copy the example code, and then click **Done**. \n",
    "\n",
    "1. Create a new cell, then paste in the sample code. It will look similar to the code shown in the following cell. Make these changes:\n",
    "  - Pass `sep=';'` to `pd.read_csv`\n",
    "  - Change the variable names from `df1` and `df2` to `white_wine` and `red_wine`, as shown in the following cell."
   ]
  },
  {
   "cell_type": "code",
   "execution_count": 0,
   "metadata": {
    "application/vnd.databricks.v1+cell": {
     "cellMetadata": {},
     "inputWidgets": {},
     "nuid": "ec0bbef8-7a94-4f19-85b2-04aed0f592f6",
     "showTitle": false,
     "title": ""
    }
   },
   "outputs": [],
   "source": [
    "# If you have the File > Upload Data menu option, follow the instructions in the previous cell to upload the data from your local machine.\n",
    "# The generated code, including the required edits described in the previous cell, is shown here for reference.\n",
    "\n",
    "import pandas as pd\n",
    "\n",
    "# In the following lines, replace <username> with your username.\n",
    "\n",
    "white_wine = pd.read_csv(\"/dbfs/FileStore/shared_uploads/<your-user-name>/<file-name>.csv\", sep=';')\n",
    "red_wine = pd.read_csv(\"/dbfs/FileStore/shared_uploads/<your-user-name>/<file-name>.csv\", sep=';')\n",
    "\n"
   ]
  },
  {
   "cell_type": "markdown",
   "metadata": {
    "application/vnd.databricks.v1+cell": {
     "cellMetadata": {},
     "inputWidgets": {},
     "nuid": "575a247d-ba2d-433e-b5a0-366885dbbfe0",
     "showTitle": false,
     "title": ""
    }
   },
   "source": [
    "Merge the two DataFrames into a single dataset, with a new binary feature \"is_red\" that indicates whether the wine is red or white."
   ]
  },
  {
   "cell_type": "code",
   "execution_count": 0,
   "metadata": {
    "application/vnd.databricks.v1+cell": {
     "cellMetadata": {},
     "inputWidgets": {},
     "nuid": "0002f6db-f146-43fd-9844-e03d27198088",
     "showTitle": false,
     "title": ""
    }
   },
   "outputs": [],
   "source": [
    "#Display this fill in code\n",
    "display(white_wine)"
   ]
  },
  {
   "cell_type": "code",
   "execution_count": 0,
   "metadata": {
    "application/vnd.databricks.v1+cell": {
     "cellMetadata": {},
     "inputWidgets": {},
     "nuid": "ed7a6642-195d-4f74-a941-403db36fd45a",
     "showTitle": false,
     "title": ""
    }
   },
   "outputs": [],
   "source": [
    "#Fill in code \n",
    "display(red_wine)"
   ]
  },
  {
   "cell_type": "code",
   "execution_count": 0,
   "metadata": {
    "application/vnd.databricks.v1+cell": {
     "cellMetadata": {
      "byteLimit": 2048000,
      "rowLimit": 10000
     },
     "inputWidgets": {},
     "nuid": "978df80a-07ac-4354-b61e-46af6c73351d",
     "showTitle": false,
     "title": ""
    }
   },
   "outputs": [
    {
     "output_type": "display_data",
     "data": {
      "text/html": [
       "<img src ='https://miro.medium.com/v2/resize:fit:1400/1*3xxU3APQ2FsDDrUQOQ7I3w.png'>"
      ]
     },
     "metadata": {
      "application/vnd.databricks.v1+output": {
       "addedWidgets": {},
       "arguments": {},
       "data": "<img src ='https://miro.medium.com/v2/resize:fit:1400/1*3xxU3APQ2FsDDrUQOQ7I3w.png'>",
       "datasetInfos": [],
       "metadata": {},
       "removedWidgets": [],
       "textData": null,
       "type": "htmlSandbox"
      }
     },
     "output_type": "display_data"
    }
   ],
   "source": [
    "displayHTML(\"<img src ='https://miro.medium.com/v2/resize:fit:1400/1*3xxU3APQ2FsDDrUQOQ7I3w.png'>\")\n",
    "\n"
   ]
  },
  {
   "cell_type": "code",
   "execution_count": 0,
   "metadata": {
    "application/vnd.databricks.v1+cell": {
     "cellMetadata": {},
     "inputWidgets": {},
     "nuid": "6132d56b-3719-466b-8c9a-80652b3c3b01",
     "showTitle": false,
     "title": ""
    }
   },
   "outputs": [],
   "source": [
    "red_wine['is_red'] = 1\n",
    "white_wine['is_red'] = 0\n",
    "\n",
    "data = pd.<fill-in-here>([red_wine, white_wine], axis=0)\n",
    "\n",
    "# Remove spaces from column names\n",
    "data.rename(columns=lambda x: x.replace(' ', '_'), inplace=True)"
   ]
  },
  {
   "cell_type": "code",
   "execution_count": 0,
   "metadata": {
    "application/vnd.databricks.v1+cell": {
     "cellMetadata": {},
     "inputWidgets": {},
     "nuid": "320bd64b-ae52-4642-a87f-9c64ee022e67",
     "showTitle": false,
     "title": ""
    }
   },
   "outputs": [],
   "source": [
    "data.head()"
   ]
  },
  {
   "cell_type": "markdown",
   "metadata": {
    "application/vnd.databricks.v1+cell": {
     "cellMetadata": {},
     "inputWidgets": {},
     "nuid": "443c03f4-02a2-416a-8754-22f55b2f0486",
     "showTitle": false,
     "title": ""
    }
   },
   "source": [
    "## Visualize data\n",
    "\n",
    "Before training a model, explore the dataset using Seaborn and Matplotlib."
   ]
  },
  {
   "cell_type": "markdown",
   "metadata": {
    "application/vnd.databricks.v1+cell": {
     "cellMetadata": {},
     "inputWidgets": {},
     "nuid": "488c15c8-5722-44a2-85e3-5a5b4e8d7804",
     "showTitle": false,
     "title": ""
    }
   },
   "source": [
    "Plot a histogram of the dependent variable, quality."
   ]
  },
  {
   "cell_type": "code",
   "execution_count": 0,
   "metadata": {
    "application/vnd.databricks.v1+cell": {
     "cellMetadata": {},
     "inputWidgets": {},
     "nuid": "c61efef3-f71f-427a-bf03-5d6b2db45f42",
     "showTitle": false,
     "title": ""
    }
   },
   "outputs": [],
   "source": [
    "import seaborn as sns\n",
    "sns.distplot(data.quality, kde=False)"
   ]
  },
  {
   "cell_type": "markdown",
   "metadata": {
    "application/vnd.databricks.v1+cell": {
     "cellMetadata": {},
     "inputWidgets": {},
     "nuid": "fcf0c0f0-bafa-46d6-9873-2257a8073fe8",
     "showTitle": false,
     "title": ""
    }
   },
   "source": [
    "Looks like quality scores are normally distributed between 3 and 9. \n",
    "\n",
    "Define a wine as high quality if it has quality >= 7."
   ]
  },
  {
   "cell_type": "code",
   "execution_count": 0,
   "metadata": {
    "application/vnd.databricks.v1+cell": {
     "cellMetadata": {},
     "inputWidgets": {},
     "nuid": "f2bab5c1-9dc5-435f-9f8c-8653cd0b2f72",
     "showTitle": false,
     "title": ""
    }
   },
   "outputs": [],
   "source": [
    "high_quality = (data.<fill-in-here> >= 7).astype(int)\n",
    "data.quality = high_quality"
   ]
  },
  {
   "cell_type": "markdown",
   "metadata": {
    "application/vnd.databricks.v1+cell": {
     "cellMetadata": {},
     "inputWidgets": {},
     "nuid": "331b931a-cbe3-47a7-8b9e-d42cecb535e9",
     "showTitle": false,
     "title": ""
    }
   },
   "source": [
    "Box plots are useful in noticing correlations between features and a binary label."
   ]
  },
  {
   "cell_type": "code",
   "execution_count": 0,
   "metadata": {
    "application/vnd.databricks.v1+cell": {
     "cellMetadata": {},
     "inputWidgets": {},
     "nuid": "9aa7feef-fe1b-4b1b-9aaf-d2e07ebadc47",
     "showTitle": false,
     "title": ""
    }
   },
   "outputs": [],
   "source": [
    "import matplotlib.pyplot as plt\n",
    "\n",
    "dims = (3, 4)\n",
    "\n",
    "f, axes = plt.subplots(dims[0], dims[1], figsize=(25, 15))\n",
    "axis_i, axis_j = 0, 0\n",
    "for col in data.columns:\n",
    "  if col == 'is_red' or col == 'quality':\n",
    "    continue # Box plots cannot be used on indicator variables\n",
    "  sns.boxplot(x=high_quality, y=data[col], ax=axes[axis_i, axis_j])\n",
    "  axis_j += 1\n",
    "  if axis_j == dims[1]:\n",
    "    axis_i += 1\n",
    "    axis_j = 0"
   ]
  },
  {
   "cell_type": "markdown",
   "metadata": {
    "application/vnd.databricks.v1+cell": {
     "cellMetadata": {},
     "inputWidgets": {},
     "nuid": "4379160c-a4b5-4924-ad9d-72efc8f6f55c",
     "showTitle": false,
     "title": ""
    }
   },
   "source": [
    "In the above box plots, a few variables stand out as good univariate predictors of quality. \n",
    "\n",
    "- In the alcohol box plot, the median alcohol content of high quality wines is greater than even the 75th quantile of low quality wines. High alcohol content is correlated with quality.\n",
    "- In the density box plot, low quality wines have a greater density than high quality wines. Density is inversely correlated with quality."
   ]
  },
  {
   "cell_type": "markdown",
   "metadata": {
    "application/vnd.databricks.v1+cell": {
     "cellMetadata": {},
     "inputWidgets": {},
     "nuid": "2fdf5b50-5dbe-4d89-bf80-be938180ad36",
     "showTitle": false,
     "title": ""
    }
   },
   "source": [
    "## Preprocess data\n",
    "Prior to training a model, check for missing values and split the data into training and validation sets."
   ]
  },
  {
   "cell_type": "code",
   "execution_count": 0,
   "metadata": {
    "application/vnd.databricks.v1+cell": {
     "cellMetadata": {},
     "inputWidgets": {},
     "nuid": "519e45fd-cb70-4cd2-a42e-f8d7e96ef29f",
     "showTitle": false,
     "title": ""
    }
   },
   "outputs": [],
   "source": [
    "data.isna().any()"
   ]
  },
  {
   "cell_type": "markdown",
   "metadata": {
    "application/vnd.databricks.v1+cell": {
     "cellMetadata": {},
     "inputWidgets": {},
     "nuid": "329f9c09-ad67-4453-9094-dcfd4e77fddf",
     "showTitle": false,
     "title": ""
    }
   },
   "source": [
    "There are no missing values."
   ]
  },
  {
   "cell_type": "markdown",
   "metadata": {
    "application/vnd.databricks.v1+cell": {
     "cellMetadata": {},
     "inputWidgets": {},
     "nuid": "1ff89f93-85b8-4660-9247-e2f1f730adf5",
     "showTitle": false,
     "title": ""
    }
   },
   "source": [
    "## Prepare dataset for training baseline model\n",
    "Split the input data into 3 sets:\n",
    "- Train (60% of the dataset used to train the model)\n",
    "- Validation (20% of the dataset used to tune the hyperparameters)\n",
    "- Test (20% of the dataset used to report the true performance of the model on an unseen dataset)"
   ]
  },
  {
   "cell_type": "code",
   "execution_count": 0,
   "metadata": {
    "application/vnd.databricks.v1+cell": {
     "cellMetadata": {
      "byteLimit": 2048000,
      "rowLimit": 10000
     },
     "inputWidgets": {},
     "nuid": "2c5145f3-18db-4e09-8a7a-9f19290e8207",
     "showTitle": false,
     "title": ""
    }
   },
   "outputs": [
    {
     "output_type": "display_data",
     "data": {
      "text/html": [
       "<img src ='https://algotrading101.com/learn/wp-content/uploads/2020/06/training-validation-test-data-set.png'>"
      ]
     },
     "metadata": {
      "application/vnd.databricks.v1+output": {
       "addedWidgets": {},
       "arguments": {},
       "data": "<img src ='https://algotrading101.com/learn/wp-content/uploads/2020/06/training-validation-test-data-set.png'>",
       "datasetInfos": [],
       "metadata": {},
       "removedWidgets": [],
       "textData": null,
       "type": "htmlSandbox"
      }
     },
     "output_type": "display_data"
    }
   ],
   "source": [
    "displayHTML(\"<img src ='https://algotrading101.com/learn/wp-content/uploads/2020/06/training-validation-test-data-set.png'>\")\n"
   ]
  },
  {
   "cell_type": "code",
   "execution_count": 0,
   "metadata": {
    "application/vnd.databricks.v1+cell": {
     "cellMetadata": {
      "byteLimit": 2048000,
      "rowLimit": 10000
     },
     "inputWidgets": {},
     "nuid": "742c9981-15ea-4443-8383-02831660c321",
     "showTitle": false,
     "title": ""
    }
   },
   "outputs": [
    {
     "output_type": "display_data",
     "data": {
      "text/html": [
       "<img src ='https://cdn-coiao.nitrocdn.com/CYHudqJZsSxQpAPzLkHFOkuzFKDpEHGF/assets/static/optimized/rev-85bf93c/wp-content/uploads/2022/05/sklearn-train-test-split_syntax-explanation_v2.png'>"
      ]
     },
     "metadata": {
      "application/vnd.databricks.v1+output": {
       "addedWidgets": {},
       "arguments": {},
       "data": "<img src ='https://cdn-coiao.nitrocdn.com/CYHudqJZsSxQpAPzLkHFOkuzFKDpEHGF/assets/static/optimized/rev-85bf93c/wp-content/uploads/2022/05/sklearn-train-test-split_syntax-explanation_v2.png'>",
       "datasetInfos": [],
       "metadata": {},
       "removedWidgets": [],
       "textData": null,
       "type": "htmlSandbox"
      }
     },
     "output_type": "display_data"
    }
   ],
   "source": [
    "displayHTML(\"<img src ='https://cdn-coiao.nitrocdn.com/CYHudqJZsSxQpAPzLkHFOkuzFKDpEHGF/assets/static/optimized/rev-85bf93c/wp-content/uploads/2022/05/sklearn-train-test-split_syntax-explanation_v2.png'>\")\n"
   ]
  },
  {
   "cell_type": "code",
   "execution_count": 0,
   "metadata": {
    "application/vnd.databricks.v1+cell": {
     "cellMetadata": {},
     "inputWidgets": {},
     "nuid": "394ddfd1-2ea8-420c-a730-09a19c795b35",
     "showTitle": false,
     "title": ""
    }
   },
   "outputs": [],
   "source": [
    "from sklearn.model_selection import train_test_split\n",
    "\n",
    "X = data.drop([\"quality\"], axis=1)\n",
    "y = data.quality\n",
    "\n",
    "# Split out the training data\n",
    "X_train, X_rem, y_train, y_rem = train_test_split(X, y, train_size=0.6, random_state=123)\n",
    "\n",
    "# Split the remaining data equally into validation and test\n",
    "X_val, X_test, y_val, y_test = train_test_split(X_rem, y_rem, test_size=0.5, random_state=123)"
   ]
  },
  {
   "cell_type": "markdown",
   "metadata": {
    "application/vnd.databricks.v1+cell": {
     "cellMetadata": {},
     "inputWidgets": {},
     "nuid": "54f13b99-d633-41f2-823b-ac5a6dd26048",
     "showTitle": false,
     "title": ""
    }
   },
   "source": [
    "## Build a baseline model\n",
    "This task seems well suited to a random forest classifier, since the output is binary and there may be interactions between multiple variables.\n",
    "\n",
    "The following code builds a simple classifier using scikit-learn. It uses MLflow to keep track of the model accuracy, and to save the model for later use."
   ]
  },
  {
   "cell_type": "markdown",
   "metadata": {
    "application/vnd.databricks.v1+cell": {
     "cellMetadata": {},
     "inputWidgets": {},
     "nuid": "251d83ea-1dc5-4dce-888e-368fcc62b0a7",
     "showTitle": false,
     "title": ""
    }
   },
   "source": [
    "## Please note that:\n",
    "#### A run is a collection of parameters, metrics, labels, and artifacts related to the training process of a machine learning model.\n",
    "#### An experiment is the basic unit of MLflow organization. All MLflow runs belong to an experiment."
   ]
  },
  {
   "cell_type": "code",
   "execution_count": 0,
   "metadata": {
    "application/vnd.databricks.v1+cell": {
     "cellMetadata": {
      "byteLimit": 2048000,
      "rowLimit": 10000
     },
     "inputWidgets": {},
     "nuid": "0b5a2134-689a-4cc1-8612-c0c9378b6a88",
     "showTitle": false,
     "title": ""
    }
   },
   "outputs": [
    {
     "output_type": "display_data",
     "data": {
      "text/html": [
       "https://www.ashishmenkudale.com/_nuxt/uploads/2ac6bac-621.png"
      ]
     },
     "metadata": {
      "application/vnd.databricks.v1+output": {
       "addedWidgets": {},
       "arguments": {},
       "data": "https://www.ashishmenkudale.com/_nuxt/uploads/2ac6bac-621.png",
       "datasetInfos": [],
       "metadata": {},
       "removedWidgets": [],
       "textData": null,
       "type": "htmlSandbox"
      }
     },
     "output_type": "display_data"
    }
   ],
   "source": [
    "displayHTML(\"https://www.ashishmenkudale.com/_nuxt/uploads/2ac6bac-621.png\")"
   ]
  },
  {
   "cell_type": "code",
   "execution_count": 0,
   "metadata": {
    "application/vnd.databricks.v1+cell": {
     "cellMetadata": {
      "byteLimit": 2048000,
      "rowLimit": 10000
     },
     "inputWidgets": {},
     "nuid": "b310b030-1e93-4e16-bcae-a6e483b36c6f",
     "showTitle": false,
     "title": ""
    }
   },
   "outputs": [
    {
     "output_type": "display_data",
     "data": {
      "text/html": [
       "https://res.infoq.com/presentations/mlflow-databricks/en/slides/sl10-1566324278045.jpg"
      ]
     },
     "metadata": {
      "application/vnd.databricks.v1+output": {
       "addedWidgets": {},
       "arguments": {},
       "data": "https://res.infoq.com/presentations/mlflow-databricks/en/slides/sl10-1566324278045.jpg",
       "datasetInfos": [],
       "metadata": {},
       "removedWidgets": [],
       "textData": null,
       "type": "htmlSandbox"
      }
     },
     "output_type": "display_data"
    }
   ],
   "source": [
    "displayHTML(\"https://res.infoq.com/presentations/mlflow-databricks/en/slides/sl10-1566324278045.jpg\")"
   ]
  },
  {
   "cell_type": "code",
   "execution_count": 0,
   "metadata": {
    "application/vnd.databricks.v1+cell": {
     "cellMetadata": {},
     "inputWidgets": {},
     "nuid": "d03ae5b2-867d-49af-875d-127f1f90f3ac",
     "showTitle": false,
     "title": ""
    }
   },
   "outputs": [],
   "source": [
    "import mlflow # Import MLflow \n",
    "import mlflow.pyfunc\n",
    "import mlflow.sklearn\n",
    "import numpy as np\n",
    "import sklearn\n",
    "from sklearn.ensemble import RandomForestClassifier\n",
    "from sklearn.metrics import roc_auc_score\n",
    "from mlflow.models.signature import infer_signature\n",
    "from mlflow.utils.environment import _mlflow_conda_env\n",
    "import cloudpickle\n",
    "import time\n",
    "mlflow.autolog() # Turn on \"autologging\"\n",
    "\n",
    "with mlflow.start_run(run_name=\"Sklearn Random Forest Tree\"): #Pass in run_name using \"with\" Python syntax\n",
    "  demo_model = RandomForestClassifier(max_depth=5).fit(X_train, y_train) #Instantiate and fit model"
   ]
  },
  {
   "cell_type": "code",
   "execution_count": 0,
   "metadata": {
    "application/vnd.databricks.v1+cell": {
     "cellMetadata": {},
     "inputWidgets": {},
     "nuid": "bbad241b-d64c-47cd-9096-55e80e8c758f",
     "showTitle": false,
     "title": ""
    }
   },
   "outputs": [],
   "source": [
    "# The predict method of sklearn's RandomForestClassifier returns a binary classification (0 or 1). \n",
    "# The following code creates a wrapper function, SklearnModelWrapper, that uses \n",
    "# the predict_proba method to return the probability that the observation belongs to each class. \n",
    "\n",
    "class SklearnModelWrapper(<fill-in-here>):\n",
    "  def __init__(self, model):\n",
    "    self.model = model\n",
    "    \n",
    "  def predict(self, context, model_input):\n",
    "    return self.model.<fill-in-here>(model_input)[:,1]\n",
    "\n",
    "# mlflow.start_run creates a new MLflow run to track the performance of this model. \n",
    "# Within the context, you call mlflow.log_param to keep track of the parameters used, and\n",
    "# mlflow.log_metric to record metrics like accuracy.\n",
    "with mlflow.<fill-in-here>(run_name='fill-in-here'):\n",
    "  n_estimators = <add-integer-value-less-than-10>\n",
    "  model = <fill-in-here>(n_estimators=n_estimators, random_state=np.random.RandomState(123))\n",
    "  model.fit(X_train, y_train)\n",
    "\n",
    "  # predict_proba returns [prob_negative, prob_positive], so slice the output with [:, 1]\n",
    "  predictions_test = model.<fill-in-here>(X_test)[:,1]\n",
    "  auc_score = roc_auc_score(y_test, predictions_test)\n",
    "  mlflow.log_param('n_estimators', n_estimators)\n",
    "  # Use the area under the ROC curve as a metric.\n",
    "  mlflow.log_metric('auc', auc_score)\n",
    "  wrappedModel = <fill-in-here>(model)\n",
    "  # Log the model with a signature that defines the schema of the model's inputs and outputs. \n",
    "  # When the model is deployed, this signature will be used to validate inputs.\n",
    "  signature = infer_signature(X_train, wrappedModel.predict(None, X_train))\n",
    "  \n",
    "  # MLflow contains utilities to create a conda environment used to serve models.\n",
    "  # The necessary dependencies are added to a conda.yaml file which is logged along with the model.\n",
    "  conda_env =  _mlflow_conda_env(\n",
    "        additional_conda_deps=None,\n",
    "        additional_pip_deps=[\"cloudpickle=={}\".format(cloudpickle.__version__), \"scikit-learn=={}\".format(sklearn.__version__)],\n",
    "        additional_conda_channels=None,\n",
    "    )\n",
    "  mlflow.pyfunc.log_model(\"random_forest_model\", python_model=wrappedModel, conda_env=conda_env, signature=signature)"
   ]
  },
  {
   "cell_type": "markdown",
   "metadata": {
    "application/vnd.databricks.v1+cell": {
     "cellMetadata": {},
     "inputWidgets": {},
     "nuid": "6f8208b9-5c67-4103-b411-f3a626b6c3d0",
     "showTitle": false,
     "title": ""
    }
   },
   "source": [
    "Examine the learned feature importances output by the model as a sanity-check."
   ]
  },
  {
   "cell_type": "code",
   "execution_count": 0,
   "metadata": {
    "application/vnd.databricks.v1+cell": {
     "cellMetadata": {},
     "inputWidgets": {},
     "nuid": "aacdf0aa-ac47-453b-9774-588e06b1db4a",
     "showTitle": false,
     "title": ""
    }
   },
   "outputs": [],
   "source": [
    "feature_importances = pd.DataFrame(model.feature_importances_, index=X_train.columns.tolist(), columns=['importance'])\n",
    "feature_importances.sort_values('importance', ascending=False)"
   ]
  },
  {
   "cell_type": "markdown",
   "metadata": {
    "application/vnd.databricks.v1+cell": {
     "cellMetadata": {},
     "inputWidgets": {},
     "nuid": "6db9848c-8c6f-4893-9175-24557d3df258",
     "showTitle": false,
     "title": ""
    }
   },
   "source": [
    "As illustrated by the boxplots shown previously, both alcohol and density are important in predicting quality."
   ]
  },
  {
   "cell_type": "markdown",
   "metadata": {
    "application/vnd.databricks.v1+cell": {
     "cellMetadata": {},
     "inputWidgets": {},
     "nuid": "8cbf5cb5-574d-41a7-be52-b176b2ef4574",
     "showTitle": false,
     "title": ""
    }
   },
   "source": [
    "You logged the Area Under the ROC Curve (AUC) to MLflow. Click **Experiment** at the upper right to display the Experiment Runs sidebar. \n",
    "\n",
    "The model achieved an AUC of 0.854.\n",
    "\n",
    "A random classifier would have an AUC of 0.5, and higher AUC values are better. For more information, see [Receiver Operating Characteristic Curve](https://en.wikipedia.org/wiki/Receiver_operating_characteristic#Area_under_the_curve)."
   ]
  },
  {
   "cell_type": "markdown",
   "metadata": {
    "application/vnd.databricks.v1+cell": {
     "cellMetadata": {},
     "inputWidgets": {},
     "nuid": "af995a30-4975-4816-924b-3654e6c088e6",
     "showTitle": false,
     "title": ""
    }
   },
   "source": [
    "#### Register the model in MLflow Model Registry\n",
    "\n",
    "By registering this model in Model Registry, you can easily reference the model from anywhere within Databricks.\n",
    "\n",
    "The following section shows how to do this programmatically, but you can also register a model using the UI. See \"Create or register a model using the UI\" ([AWS](https://docs.databricks.com/applications/machine-learning/manage-model-lifecycle/index.html#create-or-register-a-model-using-the-ui)|[Azure](https://docs.microsoft.com/azure/databricks/applications/machine-learning/manage-model-lifecycle/index#create-or-register-a-model-using-the-ui)|[GCP](https://docs.gcp.databricks.com/applications/machine-learning/manage-model-lifecycle/index.html#create-or-register-a-model-using-the-ui))."
   ]
  },
  {
   "cell_type": "code",
   "execution_count": 0,
   "metadata": {
    "application/vnd.databricks.v1+cell": {
     "cellMetadata": {},
     "inputWidgets": {},
     "nuid": "72947a74-aba2-4423-b331-f62b473a3f40",
     "showTitle": false,
     "title": ""
    }
   },
   "outputs": [],
   "source": [
    "run_id = mlflow.<fill-in-here>(filter_string='tags.mlflow.runName = \"<fill-in-here>\"').iloc[0].run_id"
   ]
  },
  {
   "cell_type": "code",
   "execution_count": 0,
   "metadata": {
    "application/vnd.databricks.v1+cell": {
     "cellMetadata": {},
     "inputWidgets": {},
     "nuid": "67dacbfc-25dd-417b-b062-89e52660f400",
     "showTitle": false,
     "title": ""
    }
   },
   "outputs": [],
   "source": [
    "# If you see the error \"PERMISSION_DENIED: User does not have any permission level assigned to the registered model\", \n",
    "# the cause may be that a model already exists with the name \"wine_quality\". Try using a different name.\n",
    "model_name = \"<fill-in-here>\"\n",
    "model_version = mlflow.register_model(f\"runs:/{run_id}/random_forest_model\", model_name)\n",
    "\n",
    "# Registering the model takes a few seconds, so add a small delay\n",
    "time.sleep(15)"
   ]
  },
  {
   "cell_type": "markdown",
   "metadata": {
    "application/vnd.databricks.v1+cell": {
     "cellMetadata": {},
     "inputWidgets": {},
     "nuid": "b3d7b31f-4a9c-4174-a7b0-735f566d9dae",
     "showTitle": false,
     "title": ""
    }
   },
   "source": [
    "You should now see the model in the Models page. To display the Models page, click the Models icon in the left sidebar. \n",
    "\n",
    "Next, transition this model to production and load it into this notebook from Model Registry."
   ]
  },
  {
   "cell_type": "code",
   "execution_count": 0,
   "metadata": {
    "application/vnd.databricks.v1+cell": {
     "cellMetadata": {},
     "inputWidgets": {},
     "nuid": "5d9ea7a7-8e46-41ba-83b2-f8226131757f",
     "showTitle": false,
     "title": ""
    }
   },
   "outputs": [],
   "source": [
    "from mlflow.tracking import MlflowClient\n",
    "\n",
    "client = MlflowClient()\n",
    "client.transition_model_version_stage(\n",
    "  name=model_name,\n",
    "  version=model_version.version,\n",
    "  stage=\"Production\",\n",
    ")"
   ]
  },
  {
   "cell_type": "markdown",
   "metadata": {
    "application/vnd.databricks.v1+cell": {
     "cellMetadata": {},
     "inputWidgets": {},
     "nuid": "894ac250-acf5-4b59-893b-cba4157121c9",
     "showTitle": false,
     "title": ""
    }
   },
   "source": [
    "The Models page now shows the model version in stage \"Production\".\n",
    "\n",
    "You can now refer to the model using the path \"models:/wine_quality/production\"."
   ]
  },
  {
   "cell_type": "code",
   "execution_count": 0,
   "metadata": {
    "application/vnd.databricks.v1+cell": {
     "cellMetadata": {},
     "inputWidgets": {},
     "nuid": "cb1c1ced-e7e5-4db0-87d7-efbf0ada5523",
     "showTitle": false,
     "title": ""
    }
   },
   "outputs": [],
   "source": [
    "model = mlflow.pyfunc.load_model(f\"models:/{model_name}/production\")\n",
    "\n",
    "# Sanity-check: This should match the AUC logged by MLflow\n",
    "print(f'AUC: {roc_auc_score(y_test, model.predict(X_test))}')"
   ]
  },
  {
   "cell_type": "markdown",
   "metadata": {
    "application/vnd.databricks.v1+cell": {
     "cellMetadata": {},
     "inputWidgets": {},
     "nuid": "bdcc6b5a-5a2a-4e60-85e1-eb8d8507dcad",
     "showTitle": false,
     "title": ""
    }
   },
   "source": [
    "##Experiment with a new model\n",
    "\n",
    "The random forest model performed well even without hyperparameter tuning.\n",
    "\n",
    "The following code uses the xgboost library to train a more accurate model. It runs a parallel hyperparameter sweep to train multiple\n",
    "models in parallel, using Hyperopt and SparkTrials. As before, the code tracks the performance of each parameter configuration with MLflow."
   ]
  },
  {
   "cell_type": "code",
   "execution_count": 0,
   "metadata": {
    "application/vnd.databricks.v1+cell": {
     "cellMetadata": {
      "byteLimit": 2048000,
      "rowLimit": 10000
     },
     "inputWidgets": {},
     "nuid": "356b120d-5051-4c24-b97d-30ceb7d4546d",
     "showTitle": false,
     "title": ""
    }
   },
   "outputs": [
    {
     "output_type": "display_data",
     "data": {
      "text/html": [
       "https://opendatascience.com/wp-content/uploads/2019/06/Code-1-1.png"
      ]
     },
     "metadata": {
      "application/vnd.databricks.v1+output": {
       "addedWidgets": {},
       "arguments": {},
       "data": "https://opendatascience.com/wp-content/uploads/2019/06/Code-1-1.png",
       "datasetInfos": [],
       "metadata": {},
       "removedWidgets": [],
       "textData": null,
       "type": "htmlSandbox"
      }
     },
     "output_type": "display_data"
    }
   ],
   "source": [
    "displayHTML(\"https://opendatascience.com/wp-content/uploads/2019/06/Code-1-1.png\")"
   ]
  },
  {
   "cell_type": "code",
   "execution_count": 0,
   "metadata": {
    "application/vnd.databricks.v1+cell": {
     "cellMetadata": {
      "byteLimit": 2048000,
      "rowLimit": 10000
     },
     "inputWidgets": {},
     "nuid": "18795cc2-d9e9-4636-9508-ca4268b93d3d",
     "showTitle": false,
     "title": ""
    }
   },
   "outputs": [
    {
     "output_type": "display_data",
     "data": {
      "text/html": [
       "https://ars.els-cdn.com/content/image/1-s2.0-S0169743922000314-gr2.jpg"
      ]
     },
     "metadata": {
      "application/vnd.databricks.v1+output": {
       "addedWidgets": {},
       "arguments": {},
       "data": "https://ars.els-cdn.com/content/image/1-s2.0-S0169743922000314-gr2.jpg",
       "datasetInfos": [],
       "metadata": {},
       "removedWidgets": [],
       "textData": null,
       "type": "htmlSandbox"
      }
     },
     "output_type": "display_data"
    }
   ],
   "source": [
    "displayHTML('https://ars.els-cdn.com/content/image/1-s2.0-S0169743922000314-gr2.jpg')"
   ]
  },
  {
   "cell_type": "code",
   "execution_count": 0,
   "metadata": {
    "application/vnd.databricks.v1+cell": {
     "cellMetadata": {
      "byteLimit": 2048000,
      "rowLimit": 10000
     },
     "inputWidgets": {},
     "nuid": "8a8d1484-1552-4f9e-ab8d-9dd8a226826f",
     "showTitle": false,
     "title": ""
    }
   },
   "outputs": [
    {
     "output_type": "display_data",
     "data": {
      "text/html": [
       "https://www.databricks.com/wp-content/uploads/2019/10/hyperopt_parameters_testing_using_spark_trials.png"
      ]
     },
     "metadata": {
      "application/vnd.databricks.v1+output": {
       "addedWidgets": {},
       "arguments": {},
       "data": "https://www.databricks.com/wp-content/uploads/2019/10/hyperopt_parameters_testing_using_spark_trials.png",
       "datasetInfos": [],
       "metadata": {},
       "removedWidgets": [],
       "textData": null,
       "type": "htmlSandbox"
      }
     },
     "output_type": "display_data"
    }
   ],
   "source": [
    "displayHTML(\"https://www.databricks.com/wp-content/uploads/2019/10/hyperopt_parameters_testing_using_spark_trials.png\")"
   ]
  },
  {
   "cell_type": "code",
   "execution_count": 0,
   "metadata": {
    "application/vnd.databricks.v1+cell": {
     "cellMetadata": {},
     "inputWidgets": {},
     "nuid": "52c595c8-5912-481e-ac9b-11424796efaa",
     "showTitle": false,
     "title": ""
    }
   },
   "outputs": [],
   "source": [
    "from hyperopt import fmin, tpe, hp, SparkTrials, Trials, STATUS_OK\n",
    "from hyperopt.pyll import scope\n",
    "from math import exp\n",
    "import mlflow.xgboost\n",
    "import numpy as np\n",
    "import xgboost as xgb\n",
    "\n",
    "search_space = {\n",
    "  'max_depth': scope.int(hp.quniform('max_depth', 4, 100, 1)),\n",
    "  'learning_rate': hp.loguniform('learning_rate', -3, 0),\n",
    "  'reg_alpha': hp.loguniform('reg_alpha', -5, -1),\n",
    "  'reg_lambda': hp.loguniform('reg_lambda', -6, -1),\n",
    "  'min_child_weight': hp.loguniform('min_child_weight', -1, 3),\n",
    "  'objective': 'binary:logistic',\n",
    "  'seed': 123, # Set a seed for deterministic training\n",
    "}\n",
    "\n",
    "def train_model(params):\n",
    "  # With MLflow autologging, hyperparameters and the trained model are automatically logged to MLflow.\n",
    "  mlflow.xgboost.autolog()\n",
    "  with mlflow.start_run(nested=True):\n",
    "    train = xgb.DMatrix(data=X_train, label=y_train)\n",
    "    validation = xgb.DMatrix(data=X_val, label=y_val)\n",
    "    # Pass in the validation set so xgb can track an evaluation metric. XGBoost terminates training when the evaluation metric\n",
    "    # is no longer improving.\n",
    "    booster = xgb.train(params=params, dtrain=train, num_boost_round=1000,\\\n",
    "                        evals=[(validation, \"validation\")], early_stopping_rounds=50)\n",
    "    validation_predictions = booster.predict(validation)\n",
    "    auc_score = roc_auc_score(y_val, validation_predictions)\n",
    "    mlflow.log_metric('auc', auc_score)\n",
    "\n",
    "    signature = infer_signature(X_train, booster.predict(train))\n",
    "    mlflow.xgboost.log_model(booster, \"model\", signature=signature)\n",
    "    \n",
    "    # Set the loss to -1*auc_score so fmin maximizes the auc_score\n",
    "    return {'status': STATUS_OK, 'loss': -1*auc_score, 'booster': booster.attributes()}\n",
    "\n",
    "# Greater parallelism will lead to speedups, but a less optimal hyperparameter sweep. \n",
    "# A reasonable value for parallelism is the square root of max_evals.\n",
    "spark_trials = <fill-in-here>(parallelism=10)\n",
    "\n",
    "# Run fmin within an MLflow run context so that each hyperparameter configuration is logged as a child run of a parent\n",
    "# run called \"xgboost_models\" .\n",
    "with mlflow.start_run(run_name='<fill-in-here>'):\n",
    "  best_params = fmin(\n",
    "    fn=train_model, \n",
    "    space=search_space, \n",
    "    algo=tpe.suggest, \n",
    "    max_evals=12,\n",
    "    trials=spark_trials,\n",
    "  )"
   ]
  },
  {
   "cell_type": "markdown",
   "metadata": {
    "application/vnd.databricks.v1+cell": {
     "cellMetadata": {},
     "inputWidgets": {},
     "nuid": "c1ed4528-c26d-44dc-9a45-b5639e876f18",
     "showTitle": false,
     "title": ""
    }
   },
   "source": [
    "#### Use MLflow to view the results\n",
    "Open up the Experiment Runs sidebar to see the MLflow runs. Click on Date next to the down arrow to display a menu, and select 'auc' to display the runs sorted by the auc metric. The highest auc value is 0.90.\n",
    "\n",
    "MLflow tracks the parameters and performance metrics of each run. Click the External Link icon <img src=\"https://docs.databricks.com/_static/images/icons/external-link.png\"/> at the top of the Experiment Runs sidebar to navigate to the MLflow Runs Table."
   ]
  },
  {
   "cell_type": "markdown",
   "metadata": {
    "application/vnd.databricks.v1+cell": {
     "cellMetadata": {},
     "inputWidgets": {},
     "nuid": "b1c76939-51b6-4b31-8ad4-117b40850ec3",
     "showTitle": false,
     "title": ""
    }
   },
   "source": [
    "Now investigate how the hyperparameter choice correlates with AUC. Click the \"+\" icon to expand the parent run, then select all runs except the parent, and click \"Compare\". Select the Parallel Coordinates Plot.\n",
    "\n",
    "The Parallel Coordinates Plot is useful in understanding the impact of parameters on a metric. You can drag the pink slider bar at the upper right corner of the plot to highlight a subset of AUC values and the corresponding parameter values. The plot below highlights the highest AUC values:\n",
    "\n",
    "<img src=\"https://docs.databricks.com/_static/images/mlflow/end-to-end-example/parallel-coordinates-plot.png\"/>\n",
    "\n",
    "Notice that all of the top performing runs have a low value for reg_lambda and learning_rate. \n",
    "\n",
    "You could run another hyperparameter sweep to explore even lower values for these parameters. For simplicity, that step is not included in this example."
   ]
  },
  {
   "cell_type": "markdown",
   "metadata": {
    "application/vnd.databricks.v1+cell": {
     "cellMetadata": {},
     "inputWidgets": {},
     "nuid": "6d8b303e-b417-4868-954b-9e7801cc8097",
     "showTitle": false,
     "title": ""
    }
   },
   "source": [
    "You used MLflow to log the model produced by each hyperparameter configuration. The following code finds the best performing run and saves the model to Model Registry."
   ]
  },
  {
   "cell_type": "code",
   "execution_count": 0,
   "metadata": {
    "application/vnd.databricks.v1+cell": {
     "cellMetadata": {},
     "inputWidgets": {},
     "nuid": "b98e982e-5d44-4541-a1c3-b944b88f0ce8",
     "showTitle": false,
     "title": ""
    }
   },
   "outputs": [],
   "source": [
    "best_run = mlflow.search_runs(order_by=['metrics.auc DESC']).iloc[0]\n",
    "print(f'AUC of Best Run: {best_run[\"metrics.auc\"]}')"
   ]
  },
  {
   "cell_type": "markdown",
   "metadata": {
    "application/vnd.databricks.v1+cell": {
     "cellMetadata": {},
     "inputWidgets": {},
     "nuid": "1ae69fae-43ad-44b7-a319-f290cdddd114",
     "showTitle": false,
     "title": ""
    }
   },
   "source": [
    "#### Update the production `wine_quality` model in MLflow Model Registry\n",
    "\n",
    "Earlier, you saved the baseline model to Model Registry with the name `wine_quality`. Now that you have a created a more accurate model, update `wine_quality`."
   ]
  },
  {
   "cell_type": "code",
   "execution_count": 0,
   "metadata": {
    "application/vnd.databricks.v1+cell": {
     "cellMetadata": {},
     "inputWidgets": {},
     "nuid": "9ba382fd-e5cf-4000-a27b-3106bfb6362e",
     "showTitle": false,
     "title": ""
    }
   },
   "outputs": [],
   "source": [
    "new_model_version = mlflow.register_model(f\"runs:/{best_run.run_id}/model\", model_name)\n",
    "\n",
    "# Registering the model takes a few seconds, so add a small delay\n",
    "time.sleep(15)"
   ]
  },
  {
   "cell_type": "markdown",
   "metadata": {
    "application/vnd.databricks.v1+cell": {
     "cellMetadata": {},
     "inputWidgets": {},
     "nuid": "10a54e0e-2bd5-4984-89f1-cc72570c17db",
     "showTitle": false,
     "title": ""
    }
   },
   "source": [
    "Click **Models** in the left sidebar to see that the `wine_quality` model now has two versions. \n",
    "\n",
    "The following code promotes the new version to production."
   ]
  },
  {
   "cell_type": "code",
   "execution_count": 0,
   "metadata": {
    "application/vnd.databricks.v1+cell": {
     "cellMetadata": {},
     "inputWidgets": {},
     "nuid": "94dd0197-f427-4060-87d4-389fb1ae9829",
     "showTitle": false,
     "title": ""
    }
   },
   "outputs": [],
   "source": [
    "# Archive the old model version\n",
    "client.transition_model_version_stage(\n",
    "  name=model_name,\n",
    "  version=model_version.version,\n",
    "  stage=<fill-in-here>\n",
    ")\n",
    "\n",
    "# Promote the new model version to Production\n",
    "client.transition_model_version_stage(\n",
    "  name=model_name,\n",
    "  version=new_model_version.version,\n",
    "  stage=<fill-in-here>\n",
    ")"
   ]
  },
  {
   "cell_type": "markdown",
   "metadata": {
    "application/vnd.databricks.v1+cell": {
     "cellMetadata": {},
     "inputWidgets": {},
     "nuid": "bcdbb841-fe03-40cf-9e42-f291b171cb18",
     "showTitle": false,
     "title": ""
    }
   },
   "source": [
    "Clients that call load_model now receive the new model."
   ]
  },
  {
   "cell_type": "code",
   "execution_count": 0,
   "metadata": {
    "application/vnd.databricks.v1+cell": {
     "cellMetadata": {},
     "inputWidgets": {},
     "nuid": "76a64378-ca90-4de9-86c9-eda661c3c7ea",
     "showTitle": false,
     "title": ""
    }
   },
   "outputs": [],
   "source": [
    "# This code is the same as the last block of \"Building a Baseline Model\". No change is required for clients to get the new model!\n",
    "model = mlflow.pyfunc.load_model(f\"models:/{model_name}/production\")\n",
    "print(f'AUC: {roc_auc_score(y_test, model.predict(X_test))}')"
   ]
  },
  {
   "cell_type": "markdown",
   "metadata": {
    "application/vnd.databricks.v1+cell": {
     "cellMetadata": {},
     "inputWidgets": {},
     "nuid": "0a53e020-750d-4e24-a597-c1517c164e05",
     "showTitle": false,
     "title": ""
    }
   },
   "source": [
    "The auc value on the test set for the new model is 0.90. You beat the baseline!"
   ]
  },
  {
   "cell_type": "markdown",
   "metadata": {
    "application/vnd.databricks.v1+cell": {
     "cellMetadata": {},
     "inputWidgets": {},
     "nuid": "923a0846-458d-4bf6-a197-0316efa3638d",
     "showTitle": false,
     "title": ""
    }
   },
   "source": [
    "##Batch inference\n",
    "\n",
    "There are many scenarios where you might want to evaluate a model on a corpus of new data. For example, you may have a fresh batch of data, or may need to compare the performance of two models on the same corpus of data.\n",
    "\n",
    "The following code evaluates the model on data stored in a Delta table, using Spark to run the computation in parallel."
   ]
  },
  {
   "cell_type": "code",
   "execution_count": 0,
   "metadata": {
    "application/vnd.databricks.v1+cell": {
     "cellMetadata": {},
     "inputWidgets": {},
     "nuid": "8bee189b-7fb6-4df9-93b6-b9375fc28718",
     "showTitle": false,
     "title": ""
    }
   },
   "outputs": [],
   "source": [
    "# To simulate a new corpus of data, save the existing X_train data to a Delta table. \n",
    "# In the real world, this would be a new batch of data.\n",
    "spark_df = spark.createDataFrame(X_train)\n",
    "# Replace <username> with your username before running this cell.\n",
    "table_path = \"dbfs:/<username>/delta/wine_data\"\n",
    "# Delete the contents of this path in case this cell has already been run\n",
    "dbutils.fs.rm(table_path, True)\n",
    "spark_df.write.format(\"delta\").save(table_path)"
   ]
  },
  {
   "cell_type": "markdown",
   "metadata": {
    "application/vnd.databricks.v1+cell": {
     "cellMetadata": {},
     "inputWidgets": {},
     "nuid": "7ab8c0ae-5277-42fd-aad2-a0f23f7f1f10",
     "showTitle": false,
     "title": ""
    }
   },
   "source": [
    "Load the model into a Spark UDF, so it can be applied to the Delta table."
   ]
  },
  {
   "cell_type": "code",
   "execution_count": 0,
   "metadata": {
    "application/vnd.databricks.v1+cell": {
     "cellMetadata": {},
     "inputWidgets": {},
     "nuid": "3a60eb80-85dc-4b22-b38c-d0cc4fcdd668",
     "showTitle": false,
     "title": ""
    }
   },
   "outputs": [],
   "source": [
    "import mlflow.pyfunc\n",
    "\n",
    "apply_model_udf = mlflow.pyfunc.spark_udf(spark, f\"models:/{model_name}/production\")"
   ]
  },
  {
   "cell_type": "code",
   "execution_count": 0,
   "metadata": {
    "application/vnd.databricks.v1+cell": {
     "cellMetadata": {},
     "inputWidgets": {},
     "nuid": "0ef08e4d-77f4-45bf-83c8-0b33240c51cb",
     "showTitle": false,
     "title": ""
    }
   },
   "outputs": [],
   "source": [
    "# Read the \"new data\" from Delta\n",
    "new_data = spark.read.format(\"delta\").load(table_path)"
   ]
  },
  {
   "cell_type": "code",
   "execution_count": 0,
   "metadata": {
    "application/vnd.databricks.v1+cell": {
     "cellMetadata": {},
     "inputWidgets": {},
     "nuid": "a76ec742-18dd-487d-9e14-9b9db4fd307c",
     "showTitle": false,
     "title": ""
    }
   },
   "outputs": [],
   "source": [
    "display(new_data)"
   ]
  },
  {
   "cell_type": "code",
   "execution_count": 0,
   "metadata": {
    "application/vnd.databricks.v1+cell": {
     "cellMetadata": {},
     "inputWidgets": {},
     "nuid": "b8685458-7ba3-474b-9594-eb5c549878e2",
     "showTitle": false,
     "title": ""
    }
   },
   "outputs": [],
   "source": [
    "from pyspark.sql.functions import struct\n",
    "\n",
    "# Apply the model to the new data\n",
    "udf_inputs = struct(*(X_train.columns.tolist()))\n",
    "\n",
    "new_data = new_data.withColumn(\n",
    "  \"prediction\",\n",
    "  apply_model_udf(udf_inputs)\n",
    ")"
   ]
  },
  {
   "cell_type": "code",
   "execution_count": 0,
   "metadata": {
    "application/vnd.databricks.v1+cell": {
     "cellMetadata": {},
     "inputWidgets": {},
     "nuid": "203cd22f-2fd6-4db1-8e04-d478ebb0fa98",
     "showTitle": false,
     "title": ""
    }
   },
   "outputs": [],
   "source": [
    "# Each row now has an associated prediction. Note that the xgboost function does not output probabilities by default, so the predictions are not limited to the range [0, 1].\n",
    "display(new_data)"
   ]
  },
  {
   "cell_type": "markdown",
   "metadata": {
    "application/vnd.databricks.v1+cell": {
     "cellMetadata": {},
     "inputWidgets": {},
     "nuid": "90baa4ae-7a5c-4e79-bb28-83dadd682075",
     "showTitle": false,
     "title": ""
    }
   },
   "source": [
    "## Model serving\n",
    "\n",
    "To productionize the model for low latency predictions, use MLflow Model Serving ([AWS](https://docs.databricks.com/applications/mlflow/model-serving.html)|[Azure](https://docs.microsoft.com/azure/databricks/applications/mlflow/model-serving)|[GCP](https://docs.gcp.databricks.com/applications/mlflow/model-serving.html)) to deploy the model to an endpoint.\n",
    "\n",
    "The following code illustrates how to issue requests using a REST API to get predictions from the deployed model."
   ]
  },
  {
   "cell_type": "markdown",
   "metadata": {
    "application/vnd.databricks.v1+cell": {
     "cellMetadata": {},
     "inputWidgets": {},
     "nuid": "c14d8300-7314-4c6d-8fbb-6fc3e30a8457",
     "showTitle": false,
     "title": ""
    }
   },
   "source": [
    "You need a Databricks token to issue requests to your model endpoint. You can generate a token from the User Settings page (click Settings in the left sidebar). Copy the token into the next cell."
   ]
  },
  {
   "cell_type": "code",
   "execution_count": 0,
   "metadata": {
    "application/vnd.databricks.v1+cell": {
     "cellMetadata": {},
     "inputWidgets": {},
     "nuid": "28e1da0f-e32b-4da7-a21f-709c8ad2172a",
     "showTitle": false,
     "title": ""
    }
   },
   "outputs": [],
   "source": [
    "import os\n",
    "os.environ[\"DATABRICKS_TOKEN\"] = \"<YOUR_TOKEN>\""
   ]
  },
  {
   "cell_type": "markdown",
   "metadata": {
    "application/vnd.databricks.v1+cell": {
     "cellMetadata": {},
     "inputWidgets": {},
     "nuid": "2a54e26f-83f6-4282-938d-41023480b22c",
     "showTitle": false,
     "title": ""
    }
   },
   "source": [
    "Click **Models** in the left sidebar and navigate to the registered wine model. Click the serving tab, and then click **Enable Serving**.\n",
    "\n",
    "Then, under **Call The Model**, click the **Python** button to display a Python code snippet to issue requests. Copy the code into this notebook. It should look similar to the code in the next cell. \n",
    "\n",
    "You can use the token to make these requests from outside Databricks notebooks as well."
   ]
  },
  {
   "cell_type": "code",
   "execution_count": 0,
   "metadata": {
    "application/vnd.databricks.v1+cell": {
     "cellMetadata": {},
     "inputWidgets": {},
     "nuid": "7881d006-5a8e-4bb7-9678-cbfaedd14045",
     "showTitle": false,
     "title": ""
    }
   },
   "outputs": [],
   "source": [
    "# Replace with code snippet from the model serving page\n",
    "import os\n",
    "import requests\n",
    "import pandas as pd\n",
    "\n",
    "def score_model(dataset: pd.DataFrame):\n",
    "  url = 'https://<DATABRICKS_URL>/model/wine_quality/Production/invocations'\n",
    "  headers = {'Authorization': f'Bearer {os.environ.get(\"DATABRICKS_TOKEN\")}'}\n",
    "  data_json = dataset.to_dict(orient='split')\n",
    "  response = requests.request(method='POST', headers=headers, url=url, json=data_json)\n",
    "  if response.status_code != 200:\n",
    "    raise Exception(f'Request failed with status {response.status_code}, {response.text}')\n",
    "  return response.json()"
   ]
  },
  {
   "cell_type": "markdown",
   "metadata": {
    "application/vnd.databricks.v1+cell": {
     "cellMetadata": {},
     "inputWidgets": {},
     "nuid": "20564797-b2a9-4a0b-bc24-25251605fa98",
     "showTitle": false,
     "title": ""
    }
   },
   "source": [
    "The model predictions from the endpoint should agree with the results from locally evaluating the model."
   ]
  },
  {
   "cell_type": "code",
   "execution_count": 0,
   "metadata": {
    "application/vnd.databricks.v1+cell": {
     "cellMetadata": {},
     "inputWidgets": {},
     "nuid": "6a295cf1-2c16-4a86-b207-d1ba322047a6",
     "showTitle": false,
     "title": ""
    }
   },
   "outputs": [],
   "source": [
    "# Model serving is designed for low-latency predictions on smaller batches of data\n",
    "num_predictions = 5\n",
    "served_predictions = score_model(X_test[:num_predictions])\n",
    "model_evaluations = model.predict(X_test[:num_predictions])\n",
    "# Compare the results from the deployed model and the trained model\n",
    "pd.DataFrame({\n",
    "  \"Model Prediction\": model_evaluations,\n",
    "  \"Served Model Prediction\": served_predictions,\n",
    "})"
   ]
  }
 ],
 "metadata": {
  "application/vnd.databricks.v1+notebook": {
   "dashboards": [],
   "language": "python",
   "notebookMetadata": {
    "pythonIndentUnit": 2
   },
   "notebookName": "Exercise_ ML End-to-End",
   "notebookOrigID": 4039325122874109,
   "widgets": {}
  }
 },
 "nbformat": 4,
 "nbformat_minor": 0
}
